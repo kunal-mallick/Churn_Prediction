{
 "cells": [
  {
   "attachments": {},
   "cell_type": "markdown",
   "metadata": {},
   "source": [
    "# Model Building"
   ]
  },
  {
   "attachments": {},
   "cell_type": "markdown",
   "metadata": {},
   "source": [
    "## Attaching Resources"
   ]
  },
  {
   "attachments": {},
   "cell_type": "markdown",
   "metadata": {},
   "source": [
    "### Importing Necessary Libraries"
   ]
  },
  {
   "cell_type": "code",
   "execution_count": 1,
   "metadata": {},
   "outputs": [
    {
     "data": {
      "text/plain": [
       "<Figure size 3750x2000 with 0 Axes>"
      ]
     },
     "metadata": {},
     "output_type": "display_data"
    }
   ],
   "source": [
    "import numpy as np\n",
    "import pandas as pd\n",
    "import matplotlib.pyplot as plt\n",
    "import seaborn as sns\n",
    "from sklearn.model_selection import KFold,cross_val_score\n",
    "from sklearn.linear_model import LogisticRegression\n",
    "from sklearn.neighbors import KNeighborsClassifier\n",
    "from sklearn.tree import DecisionTreeClassifier\n",
    "from sklearn.ensemble import AdaBoostClassifier,RandomForestClassifier,GradientBoostingClassifier,VotingClassifier,StackingClassifier, BaggingClassifier\n",
    "from sklearn.svm import SVC\n",
    "import pickle\n",
    "\n",
    "from sklearn.metrics import classification_report\n",
    "from sklearn.model_selection import GridSearchCV\n",
    "\n",
    "import warnings\n",
    "\n",
    "warnings.filterwarnings('ignore')\n",
    "plt.rcParams['figure.figsize'] = (15,8)\n",
    "plt.rcParams['figure.dpi'] = 250\n",
    "sns.set_style(style='darkgrid')\n",
    "plt.tight_layout()\n",
    "%matplotlib inline"
   ]
  },
  {
   "attachments": {},
   "cell_type": "markdown",
   "metadata": {},
   "source": [
    "### Adding Dataset"
   ]
  },
  {
   "cell_type": "code",
   "execution_count": 2,
   "metadata": {},
   "outputs": [
    {
     "data": {
      "text/html": [
       "<div>\n",
       "<style scoped>\n",
       "    .dataframe tbody tr th:only-of-type {\n",
       "        vertical-align: middle;\n",
       "    }\n",
       "\n",
       "    .dataframe tbody tr th {\n",
       "        vertical-align: top;\n",
       "    }\n",
       "\n",
       "    .dataframe thead th {\n",
       "        text-align: right;\n",
       "    }\n",
       "</style>\n",
       "<table border=\"1\" class=\"dataframe\">\n",
       "  <thead>\n",
       "    <tr style=\"text-align: right;\">\n",
       "      <th></th>\n",
       "      <th>pc0</th>\n",
       "      <th>pc1</th>\n",
       "      <th>pc2</th>\n",
       "      <th>pc3</th>\n",
       "      <th>pc4</th>\n",
       "      <th>pc5</th>\n",
       "      <th>pc6</th>\n",
       "      <th>pc7</th>\n",
       "      <th>churn</th>\n",
       "    </tr>\n",
       "  </thead>\n",
       "  <tbody>\n",
       "    <tr>\n",
       "      <th>0</th>\n",
       "      <td>2.692632</td>\n",
       "      <td>1.181955</td>\n",
       "      <td>-1.974883</td>\n",
       "      <td>-0.100607</td>\n",
       "      <td>-0.155825</td>\n",
       "      <td>-0.154433</td>\n",
       "      <td>-0.641741</td>\n",
       "      <td>0.298489</td>\n",
       "      <td>0</td>\n",
       "    </tr>\n",
       "    <tr>\n",
       "      <th>1</th>\n",
       "      <td>2.671870</td>\n",
       "      <td>-0.784750</td>\n",
       "      <td>0.078181</td>\n",
       "      <td>0.367823</td>\n",
       "      <td>0.581266</td>\n",
       "      <td>0.604552</td>\n",
       "      <td>-1.094303</td>\n",
       "      <td>0.230088</td>\n",
       "      <td>0</td>\n",
       "    </tr>\n",
       "    <tr>\n",
       "      <th>2</th>\n",
       "      <td>-1.018521</td>\n",
       "      <td>0.929002</td>\n",
       "      <td>-1.516071</td>\n",
       "      <td>0.874506</td>\n",
       "      <td>1.351654</td>\n",
       "      <td>-0.965564</td>\n",
       "      <td>-0.950209</td>\n",
       "      <td>-0.014731</td>\n",
       "      <td>0</td>\n",
       "    </tr>\n",
       "    <tr>\n",
       "      <th>3</th>\n",
       "      <td>-0.869100</td>\n",
       "      <td>5.387429</td>\n",
       "      <td>0.648361</td>\n",
       "      <td>-0.809415</td>\n",
       "      <td>1.725970</td>\n",
       "      <td>-2.427427</td>\n",
       "      <td>1.162079</td>\n",
       "      <td>0.017789</td>\n",
       "      <td>0</td>\n",
       "    </tr>\n",
       "    <tr>\n",
       "      <th>4</th>\n",
       "      <td>-0.914663</td>\n",
       "      <td>2.872560</td>\n",
       "      <td>3.281747</td>\n",
       "      <td>-1.473765</td>\n",
       "      <td>0.947660</td>\n",
       "      <td>-0.115989</td>\n",
       "      <td>0.174023</td>\n",
       "      <td>-0.001529</td>\n",
       "      <td>0</td>\n",
       "    </tr>\n",
       "    <tr>\n",
       "      <th>...</th>\n",
       "      <td>...</td>\n",
       "      <td>...</td>\n",
       "      <td>...</td>\n",
       "      <td>...</td>\n",
       "      <td>...</td>\n",
       "      <td>...</td>\n",
       "      <td>...</td>\n",
       "      <td>...</td>\n",
       "      <td>...</td>\n",
       "    </tr>\n",
       "    <tr>\n",
       "      <th>4864</th>\n",
       "      <td>3.302251</td>\n",
       "      <td>0.589227</td>\n",
       "      <td>-1.398595</td>\n",
       "      <td>0.030614</td>\n",
       "      <td>-0.241689</td>\n",
       "      <td>0.305684</td>\n",
       "      <td>0.478651</td>\n",
       "      <td>-0.602262</td>\n",
       "      <td>0</td>\n",
       "    </tr>\n",
       "    <tr>\n",
       "      <th>4865</th>\n",
       "      <td>-1.013068</td>\n",
       "      <td>-0.198165</td>\n",
       "      <td>-0.287355</td>\n",
       "      <td>-0.303650</td>\n",
       "      <td>0.053433</td>\n",
       "      <td>2.396454</td>\n",
       "      <td>-0.527177</td>\n",
       "      <td>-0.020233</td>\n",
       "      <td>0</td>\n",
       "    </tr>\n",
       "    <tr>\n",
       "      <th>4866</th>\n",
       "      <td>-1.069227</td>\n",
       "      <td>-1.027929</td>\n",
       "      <td>0.498354</td>\n",
       "      <td>0.526256</td>\n",
       "      <td>0.921987</td>\n",
       "      <td>0.287544</td>\n",
       "      <td>-0.862499</td>\n",
       "      <td>-0.022013</td>\n",
       "      <td>1</td>\n",
       "    </tr>\n",
       "    <tr>\n",
       "      <th>4867</th>\n",
       "      <td>-1.044157</td>\n",
       "      <td>-0.116334</td>\n",
       "      <td>-0.503720</td>\n",
       "      <td>0.753861</td>\n",
       "      <td>-0.089537</td>\n",
       "      <td>-1.400884</td>\n",
       "      <td>-0.091477</td>\n",
       "      <td>-0.016279</td>\n",
       "      <td>0</td>\n",
       "    </tr>\n",
       "    <tr>\n",
       "      <th>4868</th>\n",
       "      <td>2.991617</td>\n",
       "      <td>-1.428660</td>\n",
       "      <td>0.753127</td>\n",
       "      <td>3.813613</td>\n",
       "      <td>-0.680306</td>\n",
       "      <td>-0.981986</td>\n",
       "      <td>3.030203</td>\n",
       "      <td>-0.231035</td>\n",
       "      <td>0</td>\n",
       "    </tr>\n",
       "  </tbody>\n",
       "</table>\n",
       "<p>4869 rows × 9 columns</p>\n",
       "</div>"
      ],
      "text/plain": [
       "           pc0       pc1       pc2       pc3       pc4       pc5       pc6  \\\n",
       "0     2.692632  1.181955 -1.974883 -0.100607 -0.155825 -0.154433 -0.641741   \n",
       "1     2.671870 -0.784750  0.078181  0.367823  0.581266  0.604552 -1.094303   \n",
       "2    -1.018521  0.929002 -1.516071  0.874506  1.351654 -0.965564 -0.950209   \n",
       "3    -0.869100  5.387429  0.648361 -0.809415  1.725970 -2.427427  1.162079   \n",
       "4    -0.914663  2.872560  3.281747 -1.473765  0.947660 -0.115989  0.174023   \n",
       "...        ...       ...       ...       ...       ...       ...       ...   \n",
       "4864  3.302251  0.589227 -1.398595  0.030614 -0.241689  0.305684  0.478651   \n",
       "4865 -1.013068 -0.198165 -0.287355 -0.303650  0.053433  2.396454 -0.527177   \n",
       "4866 -1.069227 -1.027929  0.498354  0.526256  0.921987  0.287544 -0.862499   \n",
       "4867 -1.044157 -0.116334 -0.503720  0.753861 -0.089537 -1.400884 -0.091477   \n",
       "4868  2.991617 -1.428660  0.753127  3.813613 -0.680306 -0.981986  3.030203   \n",
       "\n",
       "           pc7  churn  \n",
       "0     0.298489      0  \n",
       "1     0.230088      0  \n",
       "2    -0.014731      0  \n",
       "3     0.017789      0  \n",
       "4    -0.001529      0  \n",
       "...        ...    ...  \n",
       "4864 -0.602262      0  \n",
       "4865 -0.020233      0  \n",
       "4866 -0.022013      1  \n",
       "4867 -0.016279      0  \n",
       "4868 -0.231035      0  \n",
       "\n",
       "[4869 rows x 9 columns]"
      ]
     },
     "execution_count": 2,
     "metadata": {},
     "output_type": "execute_result"
    }
   ],
   "source": [
    "wp = pd.read_csv(r'C:\\Users\\Kunal Mallick\\Documents\\GitHub\\Churn_Prediction\\Feature Engineering & Feature Extraction\\Feature.csv')\n",
    "\n",
    "wp"
   ]
  },
  {
   "attachments": {},
   "cell_type": "markdown",
   "metadata": {},
   "source": [
    "## Splitting The Data Into Target and Independent set"
   ]
  },
  {
   "cell_type": "code",
   "execution_count": 3,
   "metadata": {},
   "outputs": [],
   "source": [
    "x = wp.iloc[:,:-1]\n",
    "y = wp.iloc[:,-1]"
   ]
  },
  {
   "cell_type": "code",
   "execution_count": 4,
   "metadata": {},
   "outputs": [
    {
     "data": {
      "text/html": [
       "<div>\n",
       "<style scoped>\n",
       "    .dataframe tbody tr th:only-of-type {\n",
       "        vertical-align: middle;\n",
       "    }\n",
       "\n",
       "    .dataframe tbody tr th {\n",
       "        vertical-align: top;\n",
       "    }\n",
       "\n",
       "    .dataframe thead th {\n",
       "        text-align: right;\n",
       "    }\n",
       "</style>\n",
       "<table border=\"1\" class=\"dataframe\">\n",
       "  <thead>\n",
       "    <tr style=\"text-align: right;\">\n",
       "      <th></th>\n",
       "      <th>pc0</th>\n",
       "      <th>pc1</th>\n",
       "      <th>pc2</th>\n",
       "      <th>pc3</th>\n",
       "      <th>pc4</th>\n",
       "      <th>pc5</th>\n",
       "      <th>pc6</th>\n",
       "      <th>pc7</th>\n",
       "    </tr>\n",
       "  </thead>\n",
       "  <tbody>\n",
       "    <tr>\n",
       "      <th>0</th>\n",
       "      <td>2.692632</td>\n",
       "      <td>1.181955</td>\n",
       "      <td>-1.974883</td>\n",
       "      <td>-0.100607</td>\n",
       "      <td>-0.155825</td>\n",
       "      <td>-0.154433</td>\n",
       "      <td>-0.641741</td>\n",
       "      <td>0.298489</td>\n",
       "    </tr>\n",
       "    <tr>\n",
       "      <th>1</th>\n",
       "      <td>2.671870</td>\n",
       "      <td>-0.784750</td>\n",
       "      <td>0.078181</td>\n",
       "      <td>0.367823</td>\n",
       "      <td>0.581266</td>\n",
       "      <td>0.604552</td>\n",
       "      <td>-1.094303</td>\n",
       "      <td>0.230088</td>\n",
       "    </tr>\n",
       "    <tr>\n",
       "      <th>2</th>\n",
       "      <td>-1.018521</td>\n",
       "      <td>0.929002</td>\n",
       "      <td>-1.516071</td>\n",
       "      <td>0.874506</td>\n",
       "      <td>1.351654</td>\n",
       "      <td>-0.965564</td>\n",
       "      <td>-0.950209</td>\n",
       "      <td>-0.014731</td>\n",
       "    </tr>\n",
       "    <tr>\n",
       "      <th>3</th>\n",
       "      <td>-0.869100</td>\n",
       "      <td>5.387429</td>\n",
       "      <td>0.648361</td>\n",
       "      <td>-0.809415</td>\n",
       "      <td>1.725970</td>\n",
       "      <td>-2.427427</td>\n",
       "      <td>1.162079</td>\n",
       "      <td>0.017789</td>\n",
       "    </tr>\n",
       "    <tr>\n",
       "      <th>4</th>\n",
       "      <td>-0.914663</td>\n",
       "      <td>2.872560</td>\n",
       "      <td>3.281747</td>\n",
       "      <td>-1.473765</td>\n",
       "      <td>0.947660</td>\n",
       "      <td>-0.115989</td>\n",
       "      <td>0.174023</td>\n",
       "      <td>-0.001529</td>\n",
       "    </tr>\n",
       "    <tr>\n",
       "      <th>...</th>\n",
       "      <td>...</td>\n",
       "      <td>...</td>\n",
       "      <td>...</td>\n",
       "      <td>...</td>\n",
       "      <td>...</td>\n",
       "      <td>...</td>\n",
       "      <td>...</td>\n",
       "      <td>...</td>\n",
       "    </tr>\n",
       "    <tr>\n",
       "      <th>4864</th>\n",
       "      <td>3.302251</td>\n",
       "      <td>0.589227</td>\n",
       "      <td>-1.398595</td>\n",
       "      <td>0.030614</td>\n",
       "      <td>-0.241689</td>\n",
       "      <td>0.305684</td>\n",
       "      <td>0.478651</td>\n",
       "      <td>-0.602262</td>\n",
       "    </tr>\n",
       "    <tr>\n",
       "      <th>4865</th>\n",
       "      <td>-1.013068</td>\n",
       "      <td>-0.198165</td>\n",
       "      <td>-0.287355</td>\n",
       "      <td>-0.303650</td>\n",
       "      <td>0.053433</td>\n",
       "      <td>2.396454</td>\n",
       "      <td>-0.527177</td>\n",
       "      <td>-0.020233</td>\n",
       "    </tr>\n",
       "    <tr>\n",
       "      <th>4866</th>\n",
       "      <td>-1.069227</td>\n",
       "      <td>-1.027929</td>\n",
       "      <td>0.498354</td>\n",
       "      <td>0.526256</td>\n",
       "      <td>0.921987</td>\n",
       "      <td>0.287544</td>\n",
       "      <td>-0.862499</td>\n",
       "      <td>-0.022013</td>\n",
       "    </tr>\n",
       "    <tr>\n",
       "      <th>4867</th>\n",
       "      <td>-1.044157</td>\n",
       "      <td>-0.116334</td>\n",
       "      <td>-0.503720</td>\n",
       "      <td>0.753861</td>\n",
       "      <td>-0.089537</td>\n",
       "      <td>-1.400884</td>\n",
       "      <td>-0.091477</td>\n",
       "      <td>-0.016279</td>\n",
       "    </tr>\n",
       "    <tr>\n",
       "      <th>4868</th>\n",
       "      <td>2.991617</td>\n",
       "      <td>-1.428660</td>\n",
       "      <td>0.753127</td>\n",
       "      <td>3.813613</td>\n",
       "      <td>-0.680306</td>\n",
       "      <td>-0.981986</td>\n",
       "      <td>3.030203</td>\n",
       "      <td>-0.231035</td>\n",
       "    </tr>\n",
       "  </tbody>\n",
       "</table>\n",
       "<p>4869 rows × 8 columns</p>\n",
       "</div>"
      ],
      "text/plain": [
       "           pc0       pc1       pc2       pc3       pc4       pc5       pc6  \\\n",
       "0     2.692632  1.181955 -1.974883 -0.100607 -0.155825 -0.154433 -0.641741   \n",
       "1     2.671870 -0.784750  0.078181  0.367823  0.581266  0.604552 -1.094303   \n",
       "2    -1.018521  0.929002 -1.516071  0.874506  1.351654 -0.965564 -0.950209   \n",
       "3    -0.869100  5.387429  0.648361 -0.809415  1.725970 -2.427427  1.162079   \n",
       "4    -0.914663  2.872560  3.281747 -1.473765  0.947660 -0.115989  0.174023   \n",
       "...        ...       ...       ...       ...       ...       ...       ...   \n",
       "4864  3.302251  0.589227 -1.398595  0.030614 -0.241689  0.305684  0.478651   \n",
       "4865 -1.013068 -0.198165 -0.287355 -0.303650  0.053433  2.396454 -0.527177   \n",
       "4866 -1.069227 -1.027929  0.498354  0.526256  0.921987  0.287544 -0.862499   \n",
       "4867 -1.044157 -0.116334 -0.503720  0.753861 -0.089537 -1.400884 -0.091477   \n",
       "4868  2.991617 -1.428660  0.753127  3.813613 -0.680306 -0.981986  3.030203   \n",
       "\n",
       "           pc7  \n",
       "0     0.298489  \n",
       "1     0.230088  \n",
       "2    -0.014731  \n",
       "3     0.017789  \n",
       "4    -0.001529  \n",
       "...        ...  \n",
       "4864 -0.602262  \n",
       "4865 -0.020233  \n",
       "4866 -0.022013  \n",
       "4867 -0.016279  \n",
       "4868 -0.231035  \n",
       "\n",
       "[4869 rows x 8 columns]"
      ]
     },
     "execution_count": 4,
     "metadata": {},
     "output_type": "execute_result"
    }
   ],
   "source": [
    "x"
   ]
  },
  {
   "cell_type": "code",
   "execution_count": 5,
   "metadata": {},
   "outputs": [
    {
     "data": {
      "text/plain": [
       "0       0\n",
       "1       0\n",
       "2       0\n",
       "3       0\n",
       "4       0\n",
       "       ..\n",
       "4864    0\n",
       "4865    0\n",
       "4866    1\n",
       "4867    0\n",
       "4868    0\n",
       "Name: churn, Length: 4869, dtype: int64"
      ]
     },
     "execution_count": 5,
     "metadata": {},
     "output_type": "execute_result"
    }
   ],
   "source": [
    "y"
   ]
  },
  {
   "attachments": {},
   "cell_type": "markdown",
   "metadata": {},
   "source": [
    "## K-fold Cross Validation"
   ]
  },
  {
   "cell_type": "code",
   "execution_count": 6,
   "metadata": {},
   "outputs": [
    {
     "name": "stdout",
     "output_type": "stream",
     "text": [
      "Creating Model With LogisticRegression()\n",
      "Testing Accuracy of are Model is : 0.8587036614529199\n",
      "Printing All Training Model Accuracy : \n",
      "[0.862423   0.87679671 0.87679671 0.83572895 0.85010267 0.83572895\n",
      " 0.85420945 0.87474333 0.83367556 0.88683128]\n",
      "\n",
      "\n",
      "Creating Model With KNeighborsClassifier()\n",
      "Testing Accuracy of are Model is : 0.8396041946578109\n",
      "Printing All Training Model Accuracy : \n",
      "[0.84804928 0.85831622 0.862423   0.81930185 0.82135524 0.81930185\n",
      " 0.83367556 0.85010267 0.8110883  0.87242798]\n",
      "\n",
      "\n",
      "Creating Model With DecisionTreeClassifier()\n",
      "Testing Accuracy of are Model is : 0.7490256969266781\n",
      "Printing All Training Model Accuracy : \n",
      "[0.73305955 0.73716632 0.77823409 0.72895277 0.75359343 0.73921971\n",
      " 0.76796715 0.75154004 0.74537988 0.75514403]\n",
      "\n",
      "\n",
      "Creating Model With RandomForestClassifier()\n",
      "Testing Accuracy of are Model is : 0.8570605284728032\n",
      "Printing All Training Model Accuracy : \n",
      "[0.85626283 0.87474333 0.87679671 0.83572895 0.85010267 0.83367556\n",
      " 0.85420945 0.87268994 0.83162218 0.88477366]\n",
      "\n",
      "\n",
      "Creating Model With SVC()\n",
      "Testing Accuracy of are Model is : 0.8587036614529199\n",
      "Printing All Training Model Accuracy : \n",
      "[0.862423   0.87679671 0.87679671 0.83572895 0.85010267 0.83572895\n",
      " 0.85420945 0.87474333 0.83367556 0.88683128]\n",
      "\n",
      "\n"
     ]
    }
   ],
   "source": [
    "kf = KFold(n_splits=10)\n",
    "\n",
    "mod = [LogisticRegression(), KNeighborsClassifier(), DecisionTreeClassifier(), RandomForestClassifier(), SVC()]\n",
    "\n",
    "for i in range(len(mod)):\n",
    "    kf_scores = cross_val_score(mod[i],x,y,cv=kf)\n",
    "    print('Creating Model With ' + str(mod[i]))\n",
    "    print('Testing Accuracy of are Model is : ' + str(kf_scores.mean()))\n",
    "    print('Printing All Training Model Accuracy : \\n' + str(kf_scores))\n",
    "    print('\\n')"
   ]
  },
  {
   "attachments": {},
   "cell_type": "markdown",
   "metadata": {},
   "source": [
    "## Splitting The Data Into Traning and Testing Dataset"
   ]
  },
  {
   "cell_type": "code",
   "execution_count": 7,
   "metadata": {},
   "outputs": [],
   "source": [
    "xtrain = wp.iloc[:4382,:-1]\n",
    "xtest = wp.iloc[4382:,:-1]"
   ]
  },
  {
   "cell_type": "code",
   "execution_count": 8,
   "metadata": {},
   "outputs": [
    {
     "data": {
      "text/html": [
       "<div>\n",
       "<style scoped>\n",
       "    .dataframe tbody tr th:only-of-type {\n",
       "        vertical-align: middle;\n",
       "    }\n",
       "\n",
       "    .dataframe tbody tr th {\n",
       "        vertical-align: top;\n",
       "    }\n",
       "\n",
       "    .dataframe thead th {\n",
       "        text-align: right;\n",
       "    }\n",
       "</style>\n",
       "<table border=\"1\" class=\"dataframe\">\n",
       "  <thead>\n",
       "    <tr style=\"text-align: right;\">\n",
       "      <th></th>\n",
       "      <th>pc0</th>\n",
       "      <th>pc1</th>\n",
       "      <th>pc2</th>\n",
       "      <th>pc3</th>\n",
       "      <th>pc4</th>\n",
       "      <th>pc5</th>\n",
       "      <th>pc6</th>\n",
       "      <th>pc7</th>\n",
       "    </tr>\n",
       "  </thead>\n",
       "  <tbody>\n",
       "    <tr>\n",
       "      <th>4377</th>\n",
       "      <td>-1.074116</td>\n",
       "      <td>-0.212870</td>\n",
       "      <td>-0.304997</td>\n",
       "      <td>1.045537</td>\n",
       "      <td>2.892594</td>\n",
       "      <td>0.502559</td>\n",
       "      <td>-0.027189</td>\n",
       "      <td>-0.005711</td>\n",
       "    </tr>\n",
       "    <tr>\n",
       "      <th>4378</th>\n",
       "      <td>-0.909893</td>\n",
       "      <td>2.244224</td>\n",
       "      <td>3.928244</td>\n",
       "      <td>-0.393207</td>\n",
       "      <td>-0.365829</td>\n",
       "      <td>-1.607216</td>\n",
       "      <td>-0.835444</td>\n",
       "      <td>-0.017529</td>\n",
       "    </tr>\n",
       "    <tr>\n",
       "      <th>4379</th>\n",
       "      <td>-1.024085</td>\n",
       "      <td>0.483378</td>\n",
       "      <td>-1.122099</td>\n",
       "      <td>-0.609972</td>\n",
       "      <td>-0.321748</td>\n",
       "      <td>0.373674</td>\n",
       "      <td>1.031197</td>\n",
       "      <td>-0.005353</td>\n",
       "    </tr>\n",
       "    <tr>\n",
       "      <th>4380</th>\n",
       "      <td>-1.031579</td>\n",
       "      <td>-0.294364</td>\n",
       "      <td>-0.151175</td>\n",
       "      <td>1.801000</td>\n",
       "      <td>1.127646</td>\n",
       "      <td>0.918377</td>\n",
       "      <td>-0.181678</td>\n",
       "      <td>-0.015500</td>\n",
       "    </tr>\n",
       "    <tr>\n",
       "      <th>4381</th>\n",
       "      <td>-0.879694</td>\n",
       "      <td>3.290454</td>\n",
       "      <td>2.821279</td>\n",
       "      <td>-1.793256</td>\n",
       "      <td>-0.956394</td>\n",
       "      <td>-0.359610</td>\n",
       "      <td>0.844327</td>\n",
       "      <td>-0.001759</td>\n",
       "    </tr>\n",
       "  </tbody>\n",
       "</table>\n",
       "</div>"
      ],
      "text/plain": [
       "           pc0       pc1       pc2       pc3       pc4       pc5       pc6  \\\n",
       "4377 -1.074116 -0.212870 -0.304997  1.045537  2.892594  0.502559 -0.027189   \n",
       "4378 -0.909893  2.244224  3.928244 -0.393207 -0.365829 -1.607216 -0.835444   \n",
       "4379 -1.024085  0.483378 -1.122099 -0.609972 -0.321748  0.373674  1.031197   \n",
       "4380 -1.031579 -0.294364 -0.151175  1.801000  1.127646  0.918377 -0.181678   \n",
       "4381 -0.879694  3.290454  2.821279 -1.793256 -0.956394 -0.359610  0.844327   \n",
       "\n",
       "           pc7  \n",
       "4377 -0.005711  \n",
       "4378 -0.017529  \n",
       "4379 -0.005353  \n",
       "4380 -0.015500  \n",
       "4381 -0.001759  "
      ]
     },
     "execution_count": 8,
     "metadata": {},
     "output_type": "execute_result"
    }
   ],
   "source": [
    "xtrain.tail()"
   ]
  },
  {
   "cell_type": "code",
   "execution_count": 9,
   "metadata": {},
   "outputs": [
    {
     "data": {
      "text/html": [
       "<div>\n",
       "<style scoped>\n",
       "    .dataframe tbody tr th:only-of-type {\n",
       "        vertical-align: middle;\n",
       "    }\n",
       "\n",
       "    .dataframe tbody tr th {\n",
       "        vertical-align: top;\n",
       "    }\n",
       "\n",
       "    .dataframe thead th {\n",
       "        text-align: right;\n",
       "    }\n",
       "</style>\n",
       "<table border=\"1\" class=\"dataframe\">\n",
       "  <thead>\n",
       "    <tr style=\"text-align: right;\">\n",
       "      <th></th>\n",
       "      <th>pc0</th>\n",
       "      <th>pc1</th>\n",
       "      <th>pc2</th>\n",
       "      <th>pc3</th>\n",
       "      <th>pc4</th>\n",
       "      <th>pc5</th>\n",
       "      <th>pc6</th>\n",
       "      <th>pc7</th>\n",
       "    </tr>\n",
       "  </thead>\n",
       "  <tbody>\n",
       "    <tr>\n",
       "      <th>4382</th>\n",
       "      <td>3.545567</td>\n",
       "      <td>2.077000</td>\n",
       "      <td>3.783931</td>\n",
       "      <td>-2.304503</td>\n",
       "      <td>1.992722</td>\n",
       "      <td>-0.464948</td>\n",
       "      <td>0.590475</td>\n",
       "      <td>-0.889746</td>\n",
       "    </tr>\n",
       "    <tr>\n",
       "      <th>4383</th>\n",
       "      <td>3.007186</td>\n",
       "      <td>2.818091</td>\n",
       "      <td>3.145246</td>\n",
       "      <td>-0.851159</td>\n",
       "      <td>1.578415</td>\n",
       "      <td>-0.819221</td>\n",
       "      <td>-0.096708</td>\n",
       "      <td>-0.049716</td>\n",
       "    </tr>\n",
       "    <tr>\n",
       "      <th>4384</th>\n",
       "      <td>-1.087611</td>\n",
       "      <td>-1.199371</td>\n",
       "      <td>0.366498</td>\n",
       "      <td>-2.482078</td>\n",
       "      <td>-2.383212</td>\n",
       "      <td>-2.340717</td>\n",
       "      <td>-0.335399</td>\n",
       "      <td>-0.025734</td>\n",
       "    </tr>\n",
       "    <tr>\n",
       "      <th>4385</th>\n",
       "      <td>-1.095536</td>\n",
       "      <td>-1.293356</td>\n",
       "      <td>0.589099</td>\n",
       "      <td>-0.261749</td>\n",
       "      <td>-0.902991</td>\n",
       "      <td>-1.781985</td>\n",
       "      <td>0.854898</td>\n",
       "      <td>-0.013833</td>\n",
       "    </tr>\n",
       "    <tr>\n",
       "      <th>4386</th>\n",
       "      <td>-1.047497</td>\n",
       "      <td>-0.731957</td>\n",
       "      <td>0.117622</td>\n",
       "      <td>-0.515167</td>\n",
       "      <td>-0.806419</td>\n",
       "      <td>-0.220464</td>\n",
       "      <td>-0.781709</td>\n",
       "      <td>-0.025578</td>\n",
       "    </tr>\n",
       "  </tbody>\n",
       "</table>\n",
       "</div>"
      ],
      "text/plain": [
       "           pc0       pc1       pc2       pc3       pc4       pc5       pc6  \\\n",
       "4382  3.545567  2.077000  3.783931 -2.304503  1.992722 -0.464948  0.590475   \n",
       "4383  3.007186  2.818091  3.145246 -0.851159  1.578415 -0.819221 -0.096708   \n",
       "4384 -1.087611 -1.199371  0.366498 -2.482078 -2.383212 -2.340717 -0.335399   \n",
       "4385 -1.095536 -1.293356  0.589099 -0.261749 -0.902991 -1.781985  0.854898   \n",
       "4386 -1.047497 -0.731957  0.117622 -0.515167 -0.806419 -0.220464 -0.781709   \n",
       "\n",
       "           pc7  \n",
       "4382 -0.889746  \n",
       "4383 -0.049716  \n",
       "4384 -0.025734  \n",
       "4385 -0.013833  \n",
       "4386 -0.025578  "
      ]
     },
     "execution_count": 9,
     "metadata": {},
     "output_type": "execute_result"
    }
   ],
   "source": [
    "xtest.head()"
   ]
  },
  {
   "cell_type": "code",
   "execution_count": 10,
   "metadata": {},
   "outputs": [],
   "source": [
    "ytrain = wp.iloc[:4382,-1]\n",
    "ytest = wp.iloc[4382:,-1]"
   ]
  },
  {
   "cell_type": "code",
   "execution_count": 11,
   "metadata": {},
   "outputs": [
    {
     "data": {
      "text/plain": [
       "4377    1\n",
       "4378    0\n",
       "4379    1\n",
       "4380    0\n",
       "4381    0\n",
       "Name: churn, dtype: int64"
      ]
     },
     "execution_count": 11,
     "metadata": {},
     "output_type": "execute_result"
    }
   ],
   "source": [
    "ytrain.tail()"
   ]
  },
  {
   "cell_type": "code",
   "execution_count": 12,
   "metadata": {},
   "outputs": [
    {
     "data": {
      "text/plain": [
       "4382    0\n",
       "4383    1\n",
       "4384    0\n",
       "4385    0\n",
       "4386    0\n",
       "Name: churn, dtype: int64"
      ]
     },
     "execution_count": 12,
     "metadata": {},
     "output_type": "execute_result"
    }
   ],
   "source": [
    "ytest.head()"
   ]
  },
  {
   "attachments": {},
   "cell_type": "markdown",
   "metadata": {},
   "source": [
    "## Preparing Model From The Dataset"
   ]
  },
  {
   "attachments": {},
   "cell_type": "markdown",
   "metadata": {},
   "source": [
    "### Picking Model Lowest Training And Testing Difference"
   ]
  },
  {
   "cell_type": "code",
   "execution_count": 143,
   "metadata": {},
   "outputs": [],
   "source": [
    "def predict(model):\n",
    "    print('Creating Model With ' + str(model))\n",
    "    model.fit(xtrain,ytrain)\n",
    "    ypred = model.predict(xtest)\n",
    "    print('Training Accuracy of are Model is : ' + str(round(model.score(xtrain,ytrain), 2)) + '%')\n",
    "    print('Testing Accuracy of are Model is : ' + str(round(model.score(xtest,ytest), 2)) + '%')\n",
    "    print(classification_report(ytest,ypred))"
   ]
  },
  {
   "cell_type": "code",
   "execution_count": 144,
   "metadata": {},
   "outputs": [
    {
     "name": "stdout",
     "output_type": "stream",
     "text": [
      "Creating Model With LogisticRegression()\n",
      "Training Accuracy of are Model is : 0.86%\n",
      "Testing Accuracy of are Model is : 0.89%\n",
      "              precision    recall  f1-score   support\n",
      "\n",
      "           0       0.89      1.00      0.94       432\n",
      "           1       0.00      0.00      0.00        55\n",
      "\n",
      "    accuracy                           0.89       487\n",
      "   macro avg       0.44      0.50      0.47       487\n",
      "weighted avg       0.79      0.89      0.83       487\n",
      "\n",
      "Creating Model With KNeighborsClassifier()\n",
      "Training Accuracy of are Model is : 0.86%\n",
      "Testing Accuracy of are Model is : 0.87%\n",
      "              precision    recall  f1-score   support\n",
      "\n",
      "           0       0.89      0.98      0.93       432\n",
      "           1       0.11      0.02      0.03        55\n",
      "\n",
      "    accuracy                           0.87       487\n",
      "   macro avg       0.50      0.50      0.48       487\n",
      "weighted avg       0.80      0.87      0.83       487\n",
      "\n",
      "Creating Model With DecisionTreeClassifier()\n",
      "Training Accuracy of are Model is : 1.0%\n",
      "Testing Accuracy of are Model is : 0.74%\n",
      "              precision    recall  f1-score   support\n",
      "\n",
      "           0       0.88      0.81      0.85       432\n",
      "           1       0.10      0.16      0.12        55\n",
      "\n",
      "    accuracy                           0.74       487\n",
      "   macro avg       0.49      0.49      0.49       487\n",
      "weighted avg       0.80      0.74      0.77       487\n",
      "\n",
      "Creating Model With BaggingClassifier(estimator=DecisionTreeClassifier())\n",
      "Training Accuracy of are Model is : 0.98%\n",
      "Testing Accuracy of are Model is : 0.88%\n",
      "              precision    recall  f1-score   support\n",
      "\n",
      "           0       0.89      0.99      0.94       432\n",
      "           1       0.25      0.02      0.03        55\n",
      "\n",
      "    accuracy                           0.88       487\n",
      "   macro avg       0.57      0.51      0.49       487\n",
      "weighted avg       0.82      0.88      0.84       487\n",
      "\n",
      "Creating Model With RandomForestClassifier()\n",
      "Training Accuracy of are Model is : 1.0%\n",
      "Testing Accuracy of are Model is : 0.89%\n",
      "              precision    recall  f1-score   support\n",
      "\n",
      "           0       0.89      1.00      0.94       432\n",
      "           1       0.00      0.00      0.00        55\n",
      "\n",
      "    accuracy                           0.89       487\n",
      "   macro avg       0.44      0.50      0.47       487\n",
      "weighted avg       0.79      0.89      0.83       487\n",
      "\n",
      "Creating Model With BaggingClassifier(estimator=RandomForestClassifier())\n",
      "Training Accuracy of are Model is : 0.93%\n",
      "Testing Accuracy of are Model is : 0.89%\n",
      "              precision    recall  f1-score   support\n",
      "\n",
      "           0       0.89      1.00      0.94       432\n",
      "           1       0.00      0.00      0.00        55\n",
      "\n",
      "    accuracy                           0.89       487\n",
      "   macro avg       0.44      0.50      0.47       487\n",
      "weighted avg       0.79      0.89      0.83       487\n",
      "\n",
      "Creating Model With SVC()\n",
      "Training Accuracy of are Model is : 0.86%\n",
      "Testing Accuracy of are Model is : 0.89%\n",
      "              precision    recall  f1-score   support\n",
      "\n",
      "           0       0.89      1.00      0.94       432\n",
      "           1       0.00      0.00      0.00        55\n",
      "\n",
      "    accuracy                           0.89       487\n",
      "   macro avg       0.44      0.50      0.47       487\n",
      "weighted avg       0.79      0.89      0.83       487\n",
      "\n"
     ]
    }
   ],
   "source": [
    "models = [  LogisticRegression(), KNeighborsClassifier(), DecisionTreeClassifier(), BaggingClassifier(DecisionTreeClassifier()),\n",
    "            RandomForestClassifier(), BaggingClassifier(RandomForestClassifier()), SVC()]\n",
    "\n",
    "for i in range(len(models)):\n",
    "    predict(models[i])"
   ]
  },
  {
   "attachments": {},
   "cell_type": "markdown",
   "metadata": {},
   "source": [
    "### Performing Hyperparameter Tuning"
   ]
  },
  {
   "attachments": {},
   "cell_type": "markdown",
   "metadata": {},
   "source": [
    "#### Tuning Decision Tree Classifier With Bagging Classifier"
   ]
  },
  {
   "cell_type": "code",
   "execution_count": 91,
   "metadata": {},
   "outputs": [],
   "source": [
    "params = {\n",
    "    'criterion': ['gini', 'entropy', 'log_loss'],\n",
    "    'splitter': ['best', 'random'],\n",
    "    'max_depth': [2,3,4,5],\n",
    "    'min_samples_split': [2,3,4,5],\n",
    "    'min_samples_leaf': [1,2,3,4,5],\n",
    "    'min_weight_fraction_leaf': [0,1,2,3,4,5],\n",
    "    'max_features': ['auto', 'sqrt', 'log2']\n",
    "    }"
   ]
  },
  {
   "cell_type": "code",
   "execution_count": 93,
   "metadata": {},
   "outputs": [
    {
     "data": {
      "text/html": [
       "<style>#sk-container-id-5 {color: black;background-color: white;}#sk-container-id-5 pre{padding: 0;}#sk-container-id-5 div.sk-toggleable {background-color: white;}#sk-container-id-5 label.sk-toggleable__label {cursor: pointer;display: block;width: 100%;margin-bottom: 0;padding: 0.3em;box-sizing: border-box;text-align: center;}#sk-container-id-5 label.sk-toggleable__label-arrow:before {content: \"▸\";float: left;margin-right: 0.25em;color: #696969;}#sk-container-id-5 label.sk-toggleable__label-arrow:hover:before {color: black;}#sk-container-id-5 div.sk-estimator:hover label.sk-toggleable__label-arrow:before {color: black;}#sk-container-id-5 div.sk-toggleable__content {max-height: 0;max-width: 0;overflow: hidden;text-align: left;background-color: #f0f8ff;}#sk-container-id-5 div.sk-toggleable__content pre {margin: 0.2em;color: black;border-radius: 0.25em;background-color: #f0f8ff;}#sk-container-id-5 input.sk-toggleable__control:checked~div.sk-toggleable__content {max-height: 200px;max-width: 100%;overflow: auto;}#sk-container-id-5 input.sk-toggleable__control:checked~label.sk-toggleable__label-arrow:before {content: \"▾\";}#sk-container-id-5 div.sk-estimator input.sk-toggleable__control:checked~label.sk-toggleable__label {background-color: #d4ebff;}#sk-container-id-5 div.sk-label input.sk-toggleable__control:checked~label.sk-toggleable__label {background-color: #d4ebff;}#sk-container-id-5 input.sk-hidden--visually {border: 0;clip: rect(1px 1px 1px 1px);clip: rect(1px, 1px, 1px, 1px);height: 1px;margin: -1px;overflow: hidden;padding: 0;position: absolute;width: 1px;}#sk-container-id-5 div.sk-estimator {font-family: monospace;background-color: #f0f8ff;border: 1px dotted black;border-radius: 0.25em;box-sizing: border-box;margin-bottom: 0.5em;}#sk-container-id-5 div.sk-estimator:hover {background-color: #d4ebff;}#sk-container-id-5 div.sk-parallel-item::after {content: \"\";width: 100%;border-bottom: 1px solid gray;flex-grow: 1;}#sk-container-id-5 div.sk-label:hover label.sk-toggleable__label {background-color: #d4ebff;}#sk-container-id-5 div.sk-serial::before {content: \"\";position: absolute;border-left: 1px solid gray;box-sizing: border-box;top: 0;bottom: 0;left: 50%;z-index: 0;}#sk-container-id-5 div.sk-serial {display: flex;flex-direction: column;align-items: center;background-color: white;padding-right: 0.2em;padding-left: 0.2em;position: relative;}#sk-container-id-5 div.sk-item {position: relative;z-index: 1;}#sk-container-id-5 div.sk-parallel {display: flex;align-items: stretch;justify-content: center;background-color: white;position: relative;}#sk-container-id-5 div.sk-item::before, #sk-container-id-5 div.sk-parallel-item::before {content: \"\";position: absolute;border-left: 1px solid gray;box-sizing: border-box;top: 0;bottom: 0;left: 50%;z-index: -1;}#sk-container-id-5 div.sk-parallel-item {display: flex;flex-direction: column;z-index: 1;position: relative;background-color: white;}#sk-container-id-5 div.sk-parallel-item:first-child::after {align-self: flex-end;width: 50%;}#sk-container-id-5 div.sk-parallel-item:last-child::after {align-self: flex-start;width: 50%;}#sk-container-id-5 div.sk-parallel-item:only-child::after {width: 0;}#sk-container-id-5 div.sk-dashed-wrapped {border: 1px dashed gray;margin: 0 0.4em 0.5em 0.4em;box-sizing: border-box;padding-bottom: 0.4em;background-color: white;}#sk-container-id-5 div.sk-label label {font-family: monospace;font-weight: bold;display: inline-block;line-height: 1.2em;}#sk-container-id-5 div.sk-label-container {text-align: center;}#sk-container-id-5 div.sk-container {/* jupyter's `normalize.less` sets `[hidden] { display: none; }` but bootstrap.min.css set `[hidden] { display: none !important; }` so we also need the `!important` here to be able to override the default hidden behavior on the sphinx rendered scikit-learn.org. See: https://github.com/scikit-learn/scikit-learn/issues/21755 */display: inline-block !important;position: relative;}#sk-container-id-5 div.sk-text-repr-fallback {display: none;}</style><div id=\"sk-container-id-5\" class=\"sk-top-container\"><div class=\"sk-text-repr-fallback\"><pre>GridSearchCV(estimator=DecisionTreeClassifier(), n_jobs=-1,\n",
       "             param_grid={&#x27;criterion&#x27;: [&#x27;gini&#x27;, &#x27;entropy&#x27;, &#x27;log_loss&#x27;],\n",
       "                         &#x27;max_depth&#x27;: [2, 3, 4, 5],\n",
       "                         &#x27;max_features&#x27;: [&#x27;auto&#x27;, &#x27;sqrt&#x27;, &#x27;log2&#x27;],\n",
       "                         &#x27;min_samples_leaf&#x27;: [1, 2, 3, 4, 5],\n",
       "                         &#x27;min_samples_split&#x27;: [2, 3, 4, 5],\n",
       "                         &#x27;min_weight_fraction_leaf&#x27;: [0, 1, 2, 3, 4, 5],\n",
       "                         &#x27;splitter&#x27;: [&#x27;best&#x27;, &#x27;random&#x27;]})</pre><b>In a Jupyter environment, please rerun this cell to show the HTML representation or trust the notebook. <br />On GitHub, the HTML representation is unable to render, please try loading this page with nbviewer.org.</b></div><div class=\"sk-container\" hidden><div class=\"sk-item sk-dashed-wrapped\"><div class=\"sk-label-container\"><div class=\"sk-label sk-toggleable\"><input class=\"sk-toggleable__control sk-hidden--visually\" id=\"sk-estimator-id-13\" type=\"checkbox\" ><label for=\"sk-estimator-id-13\" class=\"sk-toggleable__label sk-toggleable__label-arrow\">GridSearchCV</label><div class=\"sk-toggleable__content\"><pre>GridSearchCV(estimator=DecisionTreeClassifier(), n_jobs=-1,\n",
       "             param_grid={&#x27;criterion&#x27;: [&#x27;gini&#x27;, &#x27;entropy&#x27;, &#x27;log_loss&#x27;],\n",
       "                         &#x27;max_depth&#x27;: [2, 3, 4, 5],\n",
       "                         &#x27;max_features&#x27;: [&#x27;auto&#x27;, &#x27;sqrt&#x27;, &#x27;log2&#x27;],\n",
       "                         &#x27;min_samples_leaf&#x27;: [1, 2, 3, 4, 5],\n",
       "                         &#x27;min_samples_split&#x27;: [2, 3, 4, 5],\n",
       "                         &#x27;min_weight_fraction_leaf&#x27;: [0, 1, 2, 3, 4, 5],\n",
       "                         &#x27;splitter&#x27;: [&#x27;best&#x27;, &#x27;random&#x27;]})</pre></div></div></div><div class=\"sk-parallel\"><div class=\"sk-parallel-item\"><div class=\"sk-item\"><div class=\"sk-label-container\"><div class=\"sk-label sk-toggleable\"><input class=\"sk-toggleable__control sk-hidden--visually\" id=\"sk-estimator-id-14\" type=\"checkbox\" ><label for=\"sk-estimator-id-14\" class=\"sk-toggleable__label sk-toggleable__label-arrow\">estimator: DecisionTreeClassifier</label><div class=\"sk-toggleable__content\"><pre>DecisionTreeClassifier()</pre></div></div></div><div class=\"sk-serial\"><div class=\"sk-item\"><div class=\"sk-estimator sk-toggleable\"><input class=\"sk-toggleable__control sk-hidden--visually\" id=\"sk-estimator-id-15\" type=\"checkbox\" ><label for=\"sk-estimator-id-15\" class=\"sk-toggleable__label sk-toggleable__label-arrow\">DecisionTreeClassifier</label><div class=\"sk-toggleable__content\"><pre>DecisionTreeClassifier()</pre></div></div></div></div></div></div></div></div></div></div>"
      ],
      "text/plain": [
       "GridSearchCV(estimator=DecisionTreeClassifier(), n_jobs=-1,\n",
       "             param_grid={'criterion': ['gini', 'entropy', 'log_loss'],\n",
       "                         'max_depth': [2, 3, 4, 5],\n",
       "                         'max_features': ['auto', 'sqrt', 'log2'],\n",
       "                         'min_samples_leaf': [1, 2, 3, 4, 5],\n",
       "                         'min_samples_split': [2, 3, 4, 5],\n",
       "                         'min_weight_fraction_leaf': [0, 1, 2, 3, 4, 5],\n",
       "                         'splitter': ['best', 'random']})"
      ]
     },
     "execution_count": 93,
     "metadata": {},
     "output_type": "execute_result"
    }
   ],
   "source": [
    "grid = GridSearchCV(DecisionTreeClassifier(), param_grid=params, n_jobs=-1)\n",
    "\n",
    "grid.fit(xtrain,ytrain)"
   ]
  },
  {
   "cell_type": "code",
   "execution_count": 95,
   "metadata": {},
   "outputs": [
    {
     "data": {
      "text/plain": [
       "{'criterion': 'gini',\n",
       " 'max_depth': 4,\n",
       " 'max_features': 'auto',\n",
       " 'min_samples_leaf': 3,\n",
       " 'min_samples_split': 5,\n",
       " 'min_weight_fraction_leaf': 0,\n",
       " 'splitter': 'random'}"
      ]
     },
     "execution_count": 95,
     "metadata": {},
     "output_type": "execute_result"
    }
   ],
   "source": [
    "grid.best_params_"
   ]
  },
  {
   "cell_type": "code",
   "execution_count": 145,
   "metadata": {},
   "outputs": [
    {
     "name": "stdout",
     "output_type": "stream",
     "text": [
      "Creating Model With AdaBoostClassifier(estimator=DecisionTreeClassifier(max_depth=4,\n",
      "                                                    max_features='auto',\n",
      "                                                    min_samples_leaf=3,\n",
      "                                                    min_samples_split=5,\n",
      "                                                    min_weight_fraction_leaf=0,\n",
      "                                                    splitter='random'),\n",
      "                   learning_rate=1, n_estimators=100)\n",
      "Training Accuracy of are Model is : 0.88%\n",
      "Testing Accuracy of are Model is : 0.87%\n",
      "              precision    recall  f1-score   support\n",
      "\n",
      "           0       0.89      0.97      0.93       432\n",
      "           1       0.19      0.05      0.08        55\n",
      "\n",
      "    accuracy                           0.87       487\n",
      "   macro avg       0.54      0.51      0.51       487\n",
      "weighted avg       0.81      0.87      0.83       487\n",
      "\n"
     ]
    }
   ],
   "source": [
    "predict(AdaBoostClassifier( DecisionTreeClassifier( criterion = 'gini', max_depth = 4, max_features = 'auto', min_samples_leaf = 3,\n",
    "                                                    min_samples_split = 5, min_weight_fraction_leaf = 0, splitter = 'random'),\n",
    "                            learning_rate= 1, n_estimators=100))"
   ]
  },
  {
   "attachments": {},
   "cell_type": "markdown",
   "metadata": {},
   "source": [
    "#### Tuning Gradient Boosting Classifier"
   ]
  },
  {
   "cell_type": "code",
   "execution_count": 146,
   "metadata": {},
   "outputs": [
    {
     "name": "stdout",
     "output_type": "stream",
     "text": [
      "Creating Model With GradientBoostingClassifier()\n",
      "Training Accuracy of are Model is : 0.86%\n",
      "Testing Accuracy of are Model is : 0.88%\n",
      "              precision    recall  f1-score   support\n",
      "\n",
      "           0       0.89      1.00      0.94       432\n",
      "           1       0.00      0.00      0.00        55\n",
      "\n",
      "    accuracy                           0.88       487\n",
      "   macro avg       0.44      0.50      0.47       487\n",
      "weighted avg       0.79      0.88      0.83       487\n",
      "\n"
     ]
    }
   ],
   "source": [
    "predict(GradientBoostingClassifier())"
   ]
  },
  {
   "cell_type": "code",
   "execution_count": 100,
   "metadata": {},
   "outputs": [],
   "source": [
    "params = {\n",
    "    'loss' : ['log_loss', 'deviance', 'exponential'],\n",
    "    'criterion' : ['friedman_mse', 'squared_error'],\n",
    "    'learning_rate' : [0.1,0.2,0.3,0.4,0.5],\n",
    "    'max_features' : ['auto', 'sqrt', 'log2'],\n",
    "    'n_estimators' : [1,2,3,4,5]\n",
    "    }"
   ]
  },
  {
   "cell_type": "code",
   "execution_count": 101,
   "metadata": {},
   "outputs": [
    {
     "data": {
      "text/html": [
       "<style>#sk-container-id-6 {color: black;background-color: white;}#sk-container-id-6 pre{padding: 0;}#sk-container-id-6 div.sk-toggleable {background-color: white;}#sk-container-id-6 label.sk-toggleable__label {cursor: pointer;display: block;width: 100%;margin-bottom: 0;padding: 0.3em;box-sizing: border-box;text-align: center;}#sk-container-id-6 label.sk-toggleable__label-arrow:before {content: \"▸\";float: left;margin-right: 0.25em;color: #696969;}#sk-container-id-6 label.sk-toggleable__label-arrow:hover:before {color: black;}#sk-container-id-6 div.sk-estimator:hover label.sk-toggleable__label-arrow:before {color: black;}#sk-container-id-6 div.sk-toggleable__content {max-height: 0;max-width: 0;overflow: hidden;text-align: left;background-color: #f0f8ff;}#sk-container-id-6 div.sk-toggleable__content pre {margin: 0.2em;color: black;border-radius: 0.25em;background-color: #f0f8ff;}#sk-container-id-6 input.sk-toggleable__control:checked~div.sk-toggleable__content {max-height: 200px;max-width: 100%;overflow: auto;}#sk-container-id-6 input.sk-toggleable__control:checked~label.sk-toggleable__label-arrow:before {content: \"▾\";}#sk-container-id-6 div.sk-estimator input.sk-toggleable__control:checked~label.sk-toggleable__label {background-color: #d4ebff;}#sk-container-id-6 div.sk-label input.sk-toggleable__control:checked~label.sk-toggleable__label {background-color: #d4ebff;}#sk-container-id-6 input.sk-hidden--visually {border: 0;clip: rect(1px 1px 1px 1px);clip: rect(1px, 1px, 1px, 1px);height: 1px;margin: -1px;overflow: hidden;padding: 0;position: absolute;width: 1px;}#sk-container-id-6 div.sk-estimator {font-family: monospace;background-color: #f0f8ff;border: 1px dotted black;border-radius: 0.25em;box-sizing: border-box;margin-bottom: 0.5em;}#sk-container-id-6 div.sk-estimator:hover {background-color: #d4ebff;}#sk-container-id-6 div.sk-parallel-item::after {content: \"\";width: 100%;border-bottom: 1px solid gray;flex-grow: 1;}#sk-container-id-6 div.sk-label:hover label.sk-toggleable__label {background-color: #d4ebff;}#sk-container-id-6 div.sk-serial::before {content: \"\";position: absolute;border-left: 1px solid gray;box-sizing: border-box;top: 0;bottom: 0;left: 50%;z-index: 0;}#sk-container-id-6 div.sk-serial {display: flex;flex-direction: column;align-items: center;background-color: white;padding-right: 0.2em;padding-left: 0.2em;position: relative;}#sk-container-id-6 div.sk-item {position: relative;z-index: 1;}#sk-container-id-6 div.sk-parallel {display: flex;align-items: stretch;justify-content: center;background-color: white;position: relative;}#sk-container-id-6 div.sk-item::before, #sk-container-id-6 div.sk-parallel-item::before {content: \"\";position: absolute;border-left: 1px solid gray;box-sizing: border-box;top: 0;bottom: 0;left: 50%;z-index: -1;}#sk-container-id-6 div.sk-parallel-item {display: flex;flex-direction: column;z-index: 1;position: relative;background-color: white;}#sk-container-id-6 div.sk-parallel-item:first-child::after {align-self: flex-end;width: 50%;}#sk-container-id-6 div.sk-parallel-item:last-child::after {align-self: flex-start;width: 50%;}#sk-container-id-6 div.sk-parallel-item:only-child::after {width: 0;}#sk-container-id-6 div.sk-dashed-wrapped {border: 1px dashed gray;margin: 0 0.4em 0.5em 0.4em;box-sizing: border-box;padding-bottom: 0.4em;background-color: white;}#sk-container-id-6 div.sk-label label {font-family: monospace;font-weight: bold;display: inline-block;line-height: 1.2em;}#sk-container-id-6 div.sk-label-container {text-align: center;}#sk-container-id-6 div.sk-container {/* jupyter's `normalize.less` sets `[hidden] { display: none; }` but bootstrap.min.css set `[hidden] { display: none !important; }` so we also need the `!important` here to be able to override the default hidden behavior on the sphinx rendered scikit-learn.org. See: https://github.com/scikit-learn/scikit-learn/issues/21755 */display: inline-block !important;position: relative;}#sk-container-id-6 div.sk-text-repr-fallback {display: none;}</style><div id=\"sk-container-id-6\" class=\"sk-top-container\"><div class=\"sk-text-repr-fallback\"><pre>GridSearchCV(estimator=GradientBoostingClassifier(), n_jobs=-1,\n",
       "             param_grid={&#x27;criterion&#x27;: [&#x27;friedman_mse&#x27;, &#x27;squared_error&#x27;],\n",
       "                         &#x27;learning_rate&#x27;: [0.1, 0.2, 0.3, 0.4, 0.5],\n",
       "                         &#x27;loss&#x27;: [&#x27;log_loss&#x27;, &#x27;deviance&#x27;, &#x27;exponential&#x27;],\n",
       "                         &#x27;max_features&#x27;: [&#x27;auto&#x27;, &#x27;sqrt&#x27;, &#x27;log2&#x27;],\n",
       "                         &#x27;n_estimators&#x27;: [1, 2, 3, 4, 5]})</pre><b>In a Jupyter environment, please rerun this cell to show the HTML representation or trust the notebook. <br />On GitHub, the HTML representation is unable to render, please try loading this page with nbviewer.org.</b></div><div class=\"sk-container\" hidden><div class=\"sk-item sk-dashed-wrapped\"><div class=\"sk-label-container\"><div class=\"sk-label sk-toggleable\"><input class=\"sk-toggleable__control sk-hidden--visually\" id=\"sk-estimator-id-16\" type=\"checkbox\" ><label for=\"sk-estimator-id-16\" class=\"sk-toggleable__label sk-toggleable__label-arrow\">GridSearchCV</label><div class=\"sk-toggleable__content\"><pre>GridSearchCV(estimator=GradientBoostingClassifier(), n_jobs=-1,\n",
       "             param_grid={&#x27;criterion&#x27;: [&#x27;friedman_mse&#x27;, &#x27;squared_error&#x27;],\n",
       "                         &#x27;learning_rate&#x27;: [0.1, 0.2, 0.3, 0.4, 0.5],\n",
       "                         &#x27;loss&#x27;: [&#x27;log_loss&#x27;, &#x27;deviance&#x27;, &#x27;exponential&#x27;],\n",
       "                         &#x27;max_features&#x27;: [&#x27;auto&#x27;, &#x27;sqrt&#x27;, &#x27;log2&#x27;],\n",
       "                         &#x27;n_estimators&#x27;: [1, 2, 3, 4, 5]})</pre></div></div></div><div class=\"sk-parallel\"><div class=\"sk-parallel-item\"><div class=\"sk-item\"><div class=\"sk-label-container\"><div class=\"sk-label sk-toggleable\"><input class=\"sk-toggleable__control sk-hidden--visually\" id=\"sk-estimator-id-17\" type=\"checkbox\" ><label for=\"sk-estimator-id-17\" class=\"sk-toggleable__label sk-toggleable__label-arrow\">estimator: GradientBoostingClassifier</label><div class=\"sk-toggleable__content\"><pre>GradientBoostingClassifier()</pre></div></div></div><div class=\"sk-serial\"><div class=\"sk-item\"><div class=\"sk-estimator sk-toggleable\"><input class=\"sk-toggleable__control sk-hidden--visually\" id=\"sk-estimator-id-18\" type=\"checkbox\" ><label for=\"sk-estimator-id-18\" class=\"sk-toggleable__label sk-toggleable__label-arrow\">GradientBoostingClassifier</label><div class=\"sk-toggleable__content\"><pre>GradientBoostingClassifier()</pre></div></div></div></div></div></div></div></div></div></div>"
      ],
      "text/plain": [
       "GridSearchCV(estimator=GradientBoostingClassifier(), n_jobs=-1,\n",
       "             param_grid={'criterion': ['friedman_mse', 'squared_error'],\n",
       "                         'learning_rate': [0.1, 0.2, 0.3, 0.4, 0.5],\n",
       "                         'loss': ['log_loss', 'deviance', 'exponential'],\n",
       "                         'max_features': ['auto', 'sqrt', 'log2'],\n",
       "                         'n_estimators': [1, 2, 3, 4, 5]})"
      ]
     },
     "execution_count": 101,
     "metadata": {},
     "output_type": "execute_result"
    }
   ],
   "source": [
    "grid = GridSearchCV(GradientBoostingClassifier(), param_grid=params, n_jobs = -1)\n",
    "\n",
    "grid.fit(xtrain,ytrain)"
   ]
  },
  {
   "cell_type": "code",
   "execution_count": 102,
   "metadata": {},
   "outputs": [
    {
     "data": {
      "text/plain": [
       "{'criterion': 'friedman_mse',\n",
       " 'learning_rate': 0.1,\n",
       " 'loss': 'log_loss',\n",
       " 'max_features': 'auto',\n",
       " 'n_estimators': 1}"
      ]
     },
     "execution_count": 102,
     "metadata": {},
     "output_type": "execute_result"
    }
   ],
   "source": [
    "grid.best_params_"
   ]
  },
  {
   "cell_type": "code",
   "execution_count": 150,
   "metadata": {},
   "outputs": [
    {
     "name": "stdout",
     "output_type": "stream",
     "text": [
      "Creating Model With AdaBoostClassifier(estimator=GradientBoostingClassifier(max_features='auto',\n",
      "                                                        n_estimators=1),\n",
      "                   learning_rate=1.5, n_estimators=100)\n",
      "Training Accuracy of are Model is : 0.86%\n",
      "Testing Accuracy of are Model is : 0.89%\n",
      "              precision    recall  f1-score   support\n",
      "\n",
      "           0       0.89      1.00      0.94       432\n",
      "           1       0.00      0.00      0.00        55\n",
      "\n",
      "    accuracy                           0.89       487\n",
      "   macro avg       0.44      0.50      0.47       487\n",
      "weighted avg       0.79      0.89      0.83       487\n",
      "\n"
     ]
    }
   ],
   "source": [
    "predict(AdaBoostClassifier(GradientBoostingClassifier(criterion = 'friedman_mse', n_estimators=1, learning_rate = 0.1, loss='log_loss',max_features='auto'),\n",
    "                           learning_rate= 1.5, n_estimators=100))"
   ]
  },
  {
   "attachments": {},
   "cell_type": "markdown",
   "metadata": {},
   "source": [
    "#### Tuning Random Forest Classifier With Bagging Classifier"
   ]
  },
  {
   "cell_type": "code",
   "execution_count": 151,
   "metadata": {},
   "outputs": [],
   "source": [
    "params = {\n",
    "    'criterion': ['gini', 'entropy', 'log_loss'],\n",
    "    'n_estimators' : [10,20,30,40,50],\n",
    "    'max_depth': [2,3,4,5],\n",
    "    'min_samples_split': [2,3,4,5],\n",
    "    'min_samples_leaf': [1,2,3,4,5],\n",
    "    'min_weight_fraction_leaf': [0,1,2,3,4,5],\n",
    "    'max_features': ['sqrt', 'log2']\n",
    "    }"
   ]
  },
  {
   "cell_type": "code",
   "execution_count": 152,
   "metadata": {},
   "outputs": [
    {
     "data": {
      "text/html": [
       "<style>#sk-container-id-7 {color: black;background-color: white;}#sk-container-id-7 pre{padding: 0;}#sk-container-id-7 div.sk-toggleable {background-color: white;}#sk-container-id-7 label.sk-toggleable__label {cursor: pointer;display: block;width: 100%;margin-bottom: 0;padding: 0.3em;box-sizing: border-box;text-align: center;}#sk-container-id-7 label.sk-toggleable__label-arrow:before {content: \"▸\";float: left;margin-right: 0.25em;color: #696969;}#sk-container-id-7 label.sk-toggleable__label-arrow:hover:before {color: black;}#sk-container-id-7 div.sk-estimator:hover label.sk-toggleable__label-arrow:before {color: black;}#sk-container-id-7 div.sk-toggleable__content {max-height: 0;max-width: 0;overflow: hidden;text-align: left;background-color: #f0f8ff;}#sk-container-id-7 div.sk-toggleable__content pre {margin: 0.2em;color: black;border-radius: 0.25em;background-color: #f0f8ff;}#sk-container-id-7 input.sk-toggleable__control:checked~div.sk-toggleable__content {max-height: 200px;max-width: 100%;overflow: auto;}#sk-container-id-7 input.sk-toggleable__control:checked~label.sk-toggleable__label-arrow:before {content: \"▾\";}#sk-container-id-7 div.sk-estimator input.sk-toggleable__control:checked~label.sk-toggleable__label {background-color: #d4ebff;}#sk-container-id-7 div.sk-label input.sk-toggleable__control:checked~label.sk-toggleable__label {background-color: #d4ebff;}#sk-container-id-7 input.sk-hidden--visually {border: 0;clip: rect(1px 1px 1px 1px);clip: rect(1px, 1px, 1px, 1px);height: 1px;margin: -1px;overflow: hidden;padding: 0;position: absolute;width: 1px;}#sk-container-id-7 div.sk-estimator {font-family: monospace;background-color: #f0f8ff;border: 1px dotted black;border-radius: 0.25em;box-sizing: border-box;margin-bottom: 0.5em;}#sk-container-id-7 div.sk-estimator:hover {background-color: #d4ebff;}#sk-container-id-7 div.sk-parallel-item::after {content: \"\";width: 100%;border-bottom: 1px solid gray;flex-grow: 1;}#sk-container-id-7 div.sk-label:hover label.sk-toggleable__label {background-color: #d4ebff;}#sk-container-id-7 div.sk-serial::before {content: \"\";position: absolute;border-left: 1px solid gray;box-sizing: border-box;top: 0;bottom: 0;left: 50%;z-index: 0;}#sk-container-id-7 div.sk-serial {display: flex;flex-direction: column;align-items: center;background-color: white;padding-right: 0.2em;padding-left: 0.2em;position: relative;}#sk-container-id-7 div.sk-item {position: relative;z-index: 1;}#sk-container-id-7 div.sk-parallel {display: flex;align-items: stretch;justify-content: center;background-color: white;position: relative;}#sk-container-id-7 div.sk-item::before, #sk-container-id-7 div.sk-parallel-item::before {content: \"\";position: absolute;border-left: 1px solid gray;box-sizing: border-box;top: 0;bottom: 0;left: 50%;z-index: -1;}#sk-container-id-7 div.sk-parallel-item {display: flex;flex-direction: column;z-index: 1;position: relative;background-color: white;}#sk-container-id-7 div.sk-parallel-item:first-child::after {align-self: flex-end;width: 50%;}#sk-container-id-7 div.sk-parallel-item:last-child::after {align-self: flex-start;width: 50%;}#sk-container-id-7 div.sk-parallel-item:only-child::after {width: 0;}#sk-container-id-7 div.sk-dashed-wrapped {border: 1px dashed gray;margin: 0 0.4em 0.5em 0.4em;box-sizing: border-box;padding-bottom: 0.4em;background-color: white;}#sk-container-id-7 div.sk-label label {font-family: monospace;font-weight: bold;display: inline-block;line-height: 1.2em;}#sk-container-id-7 div.sk-label-container {text-align: center;}#sk-container-id-7 div.sk-container {/* jupyter's `normalize.less` sets `[hidden] { display: none; }` but bootstrap.min.css set `[hidden] { display: none !important; }` so we also need the `!important` here to be able to override the default hidden behavior on the sphinx rendered scikit-learn.org. See: https://github.com/scikit-learn/scikit-learn/issues/21755 */display: inline-block !important;position: relative;}#sk-container-id-7 div.sk-text-repr-fallback {display: none;}</style><div id=\"sk-container-id-7\" class=\"sk-top-container\"><div class=\"sk-text-repr-fallback\"><pre>GridSearchCV(estimator=RandomForestClassifier(), n_jobs=-1,\n",
       "             param_grid={&#x27;criterion&#x27;: [&#x27;gini&#x27;, &#x27;entropy&#x27;, &#x27;log_loss&#x27;],\n",
       "                         &#x27;max_depth&#x27;: [2, 3, 4, 5],\n",
       "                         &#x27;max_features&#x27;: [&#x27;sqrt&#x27;, &#x27;log2&#x27;],\n",
       "                         &#x27;min_samples_leaf&#x27;: [1, 2, 3, 4, 5],\n",
       "                         &#x27;min_samples_split&#x27;: [2, 3, 4, 5],\n",
       "                         &#x27;min_weight_fraction_leaf&#x27;: [0, 1, 2, 3, 4, 5],\n",
       "                         &#x27;n_estimators&#x27;: [10, 20, 30, 40, 50]})</pre><b>In a Jupyter environment, please rerun this cell to show the HTML representation or trust the notebook. <br />On GitHub, the HTML representation is unable to render, please try loading this page with nbviewer.org.</b></div><div class=\"sk-container\" hidden><div class=\"sk-item sk-dashed-wrapped\"><div class=\"sk-label-container\"><div class=\"sk-label sk-toggleable\"><input class=\"sk-toggleable__control sk-hidden--visually\" id=\"sk-estimator-id-19\" type=\"checkbox\" ><label for=\"sk-estimator-id-19\" class=\"sk-toggleable__label sk-toggleable__label-arrow\">GridSearchCV</label><div class=\"sk-toggleable__content\"><pre>GridSearchCV(estimator=RandomForestClassifier(), n_jobs=-1,\n",
       "             param_grid={&#x27;criterion&#x27;: [&#x27;gini&#x27;, &#x27;entropy&#x27;, &#x27;log_loss&#x27;],\n",
       "                         &#x27;max_depth&#x27;: [2, 3, 4, 5],\n",
       "                         &#x27;max_features&#x27;: [&#x27;sqrt&#x27;, &#x27;log2&#x27;],\n",
       "                         &#x27;min_samples_leaf&#x27;: [1, 2, 3, 4, 5],\n",
       "                         &#x27;min_samples_split&#x27;: [2, 3, 4, 5],\n",
       "                         &#x27;min_weight_fraction_leaf&#x27;: [0, 1, 2, 3, 4, 5],\n",
       "                         &#x27;n_estimators&#x27;: [10, 20, 30, 40, 50]})</pre></div></div></div><div class=\"sk-parallel\"><div class=\"sk-parallel-item\"><div class=\"sk-item\"><div class=\"sk-label-container\"><div class=\"sk-label sk-toggleable\"><input class=\"sk-toggleable__control sk-hidden--visually\" id=\"sk-estimator-id-20\" type=\"checkbox\" ><label for=\"sk-estimator-id-20\" class=\"sk-toggleable__label sk-toggleable__label-arrow\">estimator: RandomForestClassifier</label><div class=\"sk-toggleable__content\"><pre>RandomForestClassifier()</pre></div></div></div><div class=\"sk-serial\"><div class=\"sk-item\"><div class=\"sk-estimator sk-toggleable\"><input class=\"sk-toggleable__control sk-hidden--visually\" id=\"sk-estimator-id-21\" type=\"checkbox\" ><label for=\"sk-estimator-id-21\" class=\"sk-toggleable__label sk-toggleable__label-arrow\">RandomForestClassifier</label><div class=\"sk-toggleable__content\"><pre>RandomForestClassifier()</pre></div></div></div></div></div></div></div></div></div></div>"
      ],
      "text/plain": [
       "GridSearchCV(estimator=RandomForestClassifier(), n_jobs=-1,\n",
       "             param_grid={'criterion': ['gini', 'entropy', 'log_loss'],\n",
       "                         'max_depth': [2, 3, 4, 5],\n",
       "                         'max_features': ['sqrt', 'log2'],\n",
       "                         'min_samples_leaf': [1, 2, 3, 4, 5],\n",
       "                         'min_samples_split': [2, 3, 4, 5],\n",
       "                         'min_weight_fraction_leaf': [0, 1, 2, 3, 4, 5],\n",
       "                         'n_estimators': [10, 20, 30, 40, 50]})"
      ]
     },
     "execution_count": 152,
     "metadata": {},
     "output_type": "execute_result"
    }
   ],
   "source": [
    "grid = GridSearchCV((RandomForestClassifier()), param_grid=params, n_jobs= -1)\n",
    "\n",
    "grid.fit(xtrain,ytrain)"
   ]
  },
  {
   "cell_type": "code",
   "execution_count": 153,
   "metadata": {},
   "outputs": [
    {
     "data": {
      "text/plain": [
       "{'criterion': 'gini',\n",
       " 'max_depth': 5,\n",
       " 'max_features': 'log2',\n",
       " 'min_samples_leaf': 1,\n",
       " 'min_samples_split': 2,\n",
       " 'min_weight_fraction_leaf': 0,\n",
       " 'n_estimators': 20}"
      ]
     },
     "execution_count": 153,
     "metadata": {},
     "output_type": "execute_result"
    }
   ],
   "source": [
    "grid.best_params_"
   ]
  },
  {
   "cell_type": "code",
   "execution_count": 155,
   "metadata": {},
   "outputs": [
    {
     "name": "stdout",
     "output_type": "stream",
     "text": [
      "Creating Model With RandomForestClassifier(max_depth=5, max_features='log2',\n",
      "                       min_weight_fraction_leaf=0, n_estimators=20)\n",
      "Training Accuracy of are Model is : 0.86%\n",
      "Testing Accuracy of are Model is : 0.89%\n",
      "              precision    recall  f1-score   support\n",
      "\n",
      "           0       0.89      1.00      0.94       432\n",
      "           1       0.00      0.00      0.00        55\n",
      "\n",
      "    accuracy                           0.89       487\n",
      "   macro avg       0.44      0.50      0.47       487\n",
      "weighted avg       0.79      0.89      0.83       487\n",
      "\n"
     ]
    }
   ],
   "source": [
    "predict(RandomForestClassifier( criterion = 'gini',  max_depth = 5,  max_features = 'log2',  min_samples_leaf = 1,\n",
    "                                min_samples_split = 2,  min_weight_fraction_leaf = 0,  n_estimators= 20))"
   ]
  },
  {
   "attachments": {},
   "cell_type": "markdown",
   "metadata": {},
   "source": [
    "#### Tuning Logistic Regression With AdaBoost Classifier"
   ]
  },
  {
   "cell_type": "code",
   "execution_count": 156,
   "metadata": {},
   "outputs": [
    {
     "name": "stdout",
     "output_type": "stream",
     "text": [
      "Creating Model With AdaBoostClassifier(estimator=LogisticRegression())\n",
      "Training Accuracy of are Model is : 0.86%\n",
      "Testing Accuracy of are Model is : 0.89%\n",
      "              precision    recall  f1-score   support\n",
      "\n",
      "           0       0.89      1.00      0.94       432\n",
      "           1       0.00      0.00      0.00        55\n",
      "\n",
      "    accuracy                           0.89       487\n",
      "   macro avg       0.44      0.50      0.47       487\n",
      "weighted avg       0.79      0.89      0.83       487\n",
      "\n"
     ]
    }
   ],
   "source": [
    "predict(AdaBoostClassifier(LogisticRegression()))"
   ]
  },
  {
   "attachments": {},
   "cell_type": "markdown",
   "metadata": {},
   "source": [
    "#### Tuning KNeighborsClassifier With Bagging Classifier"
   ]
  },
  {
   "cell_type": "code",
   "execution_count": 158,
   "metadata": {},
   "outputs": [
    {
     "data": {
      "image/png": "[encoded data removed]",
      "text/plain": [
       "<Figure size 3750x2000 with 1 Axes>"
      ]
     },
     "metadata": {},
     "output_type": "display_data"
    }
   ],
   "source": [
    "trainac = []\n",
    "testac = []\n",
    "\n",
    "for i in range(1,11):\n",
    "    knn = BaggingClassifier(KNeighborsClassifier(n_neighbors=i),n_estimators = 10)\n",
    "    knn.fit(xtrain,ytrain)\n",
    "    ypred = knn.predict(xtest)\n",
    "    \n",
    "    trainac.append(knn.score(xtrain,ytrain))\n",
    "    testac.append(knn.score(xtest,ytest))\n",
    "\n",
    "plt.title('')\n",
    "plt.plot(range(1,11),trainac)\n",
    "plt.plot(range(1,11), testac)\n",
    "plt.xlabel('Number of K')\n",
    "plt.ylabel('Accuracy')\n",
    "plt.grid()"
   ]
  },
  {
   "cell_type": "code",
   "execution_count": 162,
   "metadata": {},
   "outputs": [
    {
     "name": "stdout",
     "output_type": "stream",
     "text": [
      "Creating Model With KNeighborsClassifier(n_neighbors=4)\n",
      "Training Accuracy of are Model is : 0.86%\n",
      "Testing Accuracy of are Model is : 0.89%\n",
      "              precision    recall  f1-score   support\n",
      "\n",
      "           0       0.89      1.00      0.94       432\n",
      "           1       0.50      0.02      0.04        55\n",
      "\n",
      "    accuracy                           0.89       487\n",
      "   macro avg       0.69      0.51      0.49       487\n",
      "weighted avg       0.84      0.89      0.84       487\n",
      "\n"
     ]
    }
   ],
   "source": [
    "predict(KNeighborsClassifier(n_neighbors=4))"
   ]
  },
  {
   "attachments": {},
   "cell_type": "markdown",
   "metadata": {},
   "source": [
    "#### Tuning SVC "
   ]
  },
  {
   "cell_type": "code",
   "execution_count": 13,
   "metadata": {},
   "outputs": [],
   "source": [
    "params = {\n",
    "    'kernel' : ['poly','rbf','linear','sigmoid'],\n",
    "    'C' : [0.1,0.001,0.0001,1,10],\n",
    "    'gamma' : [0.1,0.001,1,10]\n",
    "}"
   ]
  },
  {
   "cell_type": "code",
   "execution_count": 14,
   "metadata": {},
   "outputs": [],
   "source": [
    "grid = GridSearchCV(SVC(), param_grid=params, verbose=1, n_jobs=-1)\n",
    "\n",
    "grid.fit(xtrain,ytrain)"
   ]
  },
  {
   "cell_type": "code",
   "execution_count": null,
   "metadata": {},
   "outputs": [
    {
     "data": {
      "text/plain": [
       "{'criterion': 'gini',\n",
       " 'max_depth': 4,\n",
       " 'max_features': 'auto',\n",
       " 'min_samples_leaf': 3,\n",
       " 'min_samples_split': 5,\n",
       " 'min_weight_fraction_leaf': 0,\n",
       " 'splitter': 'random'}"
      ]
     },
     "metadata": {},
     "output_type": "display_data"
    }
   ],
   "source": [
    "grid.best_params_"
   ]
  },
  {
   "cell_type": "code",
   "execution_count": null,
   "metadata": {},
   "outputs": [
    {
     "name": "stdout",
     "output_type": "stream",
     "text": [
      "Creating Model With AdaBoostClassifier(estimator=DecisionTreeClassifier(max_depth=4,\n",
      "                                                    max_features='auto',\n",
      "                                                    min_samples_leaf=3,\n",
      "                                                    min_samples_split=5,\n",
      "                                                    min_weight_fraction_leaf=0,\n",
      "                                                    splitter='random'),\n",
      "                   learning_rate=1, n_estimators=100)\n",
      "Training Accuracy of are Model is : 0.88%\n",
      "Testing Accuracy of are Model is : 0.87%\n",
      "              precision    recall  f1-score   support\n",
      "\n",
      "           0       0.89      0.97      0.93       432\n",
      "           1       0.19      0.05      0.08        55\n",
      "\n",
      "    accuracy                           0.87       487\n",
      "   macro avg       0.54      0.51      0.51       487\n",
      "weighted avg       0.81      0.87      0.83       487\n",
      "\n"
     ]
    }
   ],
   "source": [
    "predict(SVC())"
   ]
  },
  {
   "attachments": {},
   "cell_type": "markdown",
   "metadata": {},
   "source": [
    "#### Tuning Voting Classifier"
   ]
  },
  {
   "cell_type": "code",
   "execution_count": 38,
   "metadata": {},
   "outputs": [],
   "source": [
    "models = []\n",
    "\n",
    "models.append(('al',AdaBoostClassifier(LogisticRegression())))\n",
    "models.append(('gb',GradientBoostingClassifier(criterion = 'friedman_mse', n_estimators=2, learning_rate = 0.5, loss='deviance',max_features='log2')))\n",
    "models.append(('br',BaggingClassifier(KNeighborsClassifier(n_neighbors=78),n_estimators = 10)))"
   ]
  },
  {
   "cell_type": "code",
   "execution_count": 31,
   "metadata": {},
   "outputs": [
    {
     "name": "stdout",
     "output_type": "stream",
     "text": [
      "Creating Model With VotingClassifier(estimators=[('al',\n",
      "                              AdaBoostClassifier(base_estimator=LogisticRegression())),\n",
      "                             ('gb',\n",
      "                              GradientBoostingClassifier(learning_rate=0.5,\n",
      "                                                         max_features='log2',\n",
      "                                                         n_estimators=2)),\n",
      "                             ('br',\n",
      "                              BaggingClassifier(base_estimator=KNeighborsClassifier(n_neighbors=78)))],\n",
      "                 voting='soft')\n",
      "Training Accuracy of are Model is : 0.6437440305635148\n",
      "Training Accuracy of are Model is : 0.6094420600858369\n",
      "              precision    recall  f1-score   support\n",
      "\n",
      "           0       0.61      0.99      0.75       421\n",
      "           1       0.73      0.03      0.06       278\n",
      "\n",
      "    accuracy                           0.61       699\n",
      "   macro avg       0.67      0.51      0.40       699\n",
      "weighted avg       0.66      0.61      0.48       699\n",
      "\n"
     ]
    }
   ],
   "source": [
    "predict(VotingClassifier(estimators=models, voting = 'soft'))"
   ]
  },
  {
   "cell_type": "code",
   "execution_count": 32,
   "metadata": {},
   "outputs": [
    {
     "name": "stdout",
     "output_type": "stream",
     "text": [
      "Creating Model With VotingClassifier(estimators=[('al',\n",
      "                              AdaBoostClassifier(base_estimator=LogisticRegression())),\n",
      "                             ('gb',\n",
      "                              GradientBoostingClassifier(learning_rate=0.5,\n",
      "                                                         max_features='log2',\n",
      "                                                         n_estimators=2)),\n",
      "                             ('br',\n",
      "                              BaggingClassifier(base_estimator=KNeighborsClassifier(n_neighbors=78)))])\n",
      "Training Accuracy of are Model is : 0.6361031518624641\n",
      "Training Accuracy of are Model is : 0.6094420600858369\n",
      "              precision    recall  f1-score   support\n",
      "\n",
      "           0       0.61      1.00      0.75       421\n",
      "           1       0.86      0.02      0.04       278\n",
      "\n",
      "    accuracy                           0.61       699\n",
      "   macro avg       0.73      0.51      0.40       699\n",
      "weighted avg       0.71      0.61      0.47       699\n",
      "\n"
     ]
    }
   ],
   "source": [
    "predict(VotingClassifier(estimators=models, voting = 'hard'))"
   ]
  },
  {
   "attachments": {},
   "cell_type": "markdown",
   "metadata": {},
   "source": [
    "#### Tuning Stacking Classifier"
   ]
  },
  {
   "cell_type": "code",
   "execution_count": 68,
   "metadata": {},
   "outputs": [
    {
     "name": "stdout",
     "output_type": "stream",
     "text": [
      "Creating Model With StackingClassifier(estimators=[('al',\n",
      "                                AdaBoostClassifier(base_estimator=LogisticRegression())),\n",
      "                               ('gb',\n",
      "                                GradientBoostingClassifier(learning_rate=0.5,\n",
      "                                                           max_features='log2',\n",
      "                                                           n_estimators=2)),\n",
      "                               ('br',\n",
      "                                BaggingClassifier(base_estimator=KNeighborsClassifier(n_neighbors=78)))],\n",
      "                   final_estimator=GradientBoostingClassifier(learning_rate=0.5,\n",
      "                                                              max_features='log2',\n",
      "                                                              n_estimators=2))\n",
      "Training Accuracy of are Model is : 0.6461318051575932\n",
      "Training Accuracy of are Model is : 0.6280400572246065\n",
      "              precision    recall  f1-score   support\n",
      "\n",
      "           0       0.62      0.99      0.76       421\n",
      "           1       0.82      0.08      0.15       278\n",
      "\n",
      "    accuracy                           0.63       699\n",
      "   macro avg       0.72      0.54      0.46       699\n",
      "weighted avg       0.70      0.63      0.52       699\n",
      "\n"
     ]
    }
   ],
   "source": [
    "predict(StackingClassifier( estimators = models,\n",
    "                            final_estimator = GradientBoostingClassifier(criterion = 'friedman_mse', n_estimators=2, learning_rate = 0.5, loss='deviance',max_features='log2')))"
   ]
  },
  {
   "attachments": {},
   "cell_type": "markdown",
   "metadata": {},
   "source": [
    "### Creating Final Model With Hyperparameter Value"
   ]
  },
  {
   "cell_type": "code",
   "execution_count": 59,
   "metadata": {},
   "outputs": [],
   "source": [
    "models = []\n",
    "\n",
    "models.append(('al',AdaBoostClassifier(LogisticRegression())))\n",
    "models.append(('gb',GradientBoostingClassifier(criterion = 'friedman_mse', n_estimators=2, learning_rate = 0.5, loss='deviance',max_features='log2')))\n",
    "models.append(('br',BaggingClassifier(KNeighborsClassifier(n_neighbors=78),n_estimators = 10)))"
   ]
  },
  {
   "cell_type": "code",
   "execution_count": 60,
   "metadata": {},
   "outputs": [],
   "source": [
    "final_model = StackingClassifier(   estimators = models, \n",
    "                                    final_estimator = GradientBoostingClassifier(   criterion = 'friedman_mse',\n",
    "                                                                                    n_estimators=2,\n",
    "                                                                                    learning_rate = 0.5,\n",
    "                                                                                    loss='deviance',\n",
    "                                                                                    max_features='log2'))\n",
    "final_model.fit(xtrain,ytrain)\n",
    "ypred = final_model.predict(xtest)"
   ]
  },
  {
   "attachments": {},
   "cell_type": "markdown",
   "metadata": {},
   "source": [
    "#### Evaluating The Model"
   ]
  },
  {
   "attachments": {},
   "cell_type": "markdown",
   "metadata": {},
   "source": [
    "##### Creating Classification Report"
   ]
  },
  {
   "cell_type": "code",
   "execution_count": 61,
   "metadata": {},
   "outputs": [
    {
     "name": "stdout",
     "output_type": "stream",
     "text": [
      "              precision    recall  f1-score   support\n",
      "\n",
      "           0       0.64      0.96      0.77       421\n",
      "           1       0.75      0.17      0.28       278\n",
      "\n",
      "    accuracy                           0.65       699\n",
      "   macro avg       0.69      0.57      0.52       699\n",
      "weighted avg       0.68      0.65      0.57       699\n",
      "\n"
     ]
    }
   ],
   "source": [
    "print(classification_report(ytest,ypred))"
   ]
  },
  {
   "attachments": {},
   "cell_type": "markdown",
   "metadata": {},
   "source": [
    "##### Comparing Training And Testing Accuracy"
   ]
  },
  {
   "cell_type": "code",
   "execution_count": 62,
   "metadata": {},
   "outputs": [
    {
     "name": "stdout",
     "output_type": "stream",
     "text": [
      "Training Accuracy of are Model is : 0.66 %\n",
      "Testing Accuracy of are Model is : 0.65 %\n"
     ]
    }
   ],
   "source": [
    "print('Training Accuracy of are Model is : ' + str(round(final_model.score(xtrain,ytrain),2))+' %')\n",
    "print('Testing Accuracy of are Model is : ' + str(round(final_model.score(xtest, ytest),2))+' %')"
   ]
  },
  {
   "attachments": {},
   "cell_type": "markdown",
   "metadata": {},
   "source": [
    "## Creating Model"
   ]
  },
  {
   "cell_type": "code",
   "execution_count": 64,
   "metadata": {},
   "outputs": [],
   "source": [
    "pickle.dump(final_model, open('model.pkl','wb'))"
   ]
  }
 ],
 "metadata": {
  "kernelspec": {
   "display_name": "base",
   "language": "python",
   "name": "python3"
  },
  "language_info": {
   "codemirror_mode": {
    "name": "ipython",
    "version": 3
   },
   "file_extension": ".py",
   "mimetype": "text/x-python",
   "name": "python",
   "nbconvert_exporter": "python",
   "pygments_lexer": "ipython3",
   "version": "3.10.9"
  },
  "orig_nbformat": 4
 },
 "nbformat": 4,
 "nbformat_minor": 2
}
